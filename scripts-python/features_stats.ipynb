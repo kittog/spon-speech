{
 "cells": [
  {
   "attachments": {},
   "cell_type": "markdown",
   "metadata": {},
   "source": [
    "## Analyse des features extraits avec openSMILE\n",
    "Suite à l'extraction des mesures avec le module python `openSMILE` (que cela soit pour un phonème donné pour un locuteur, ou pour un ensemble de fragments d'audio de 5s pour un locuteur donné ; données \"contrôléesé ou \"non\"), on peut analyser ces données avec `pandas` et `seaborn`.\n"
   ]
  },
  {
   "cell_type": "code",
   "execution_count": 1,
   "metadata": {},
   "outputs": [],
   "source": [
    "import glob\n",
    "import numpy as np\n",
    "import pandas as pd\n",
    "import seaborn as sns\n",
    "import matplotlib.pyplot as plt\n",
    "%matplotlib inline"
   ]
  },
  {
   "cell_type": "code",
   "execution_count": null,
   "metadata": {},
   "outputs": [],
   "source": [
    "path_to_folder = \"/features/\"\n",
    "extracted_features = glob.glob(path_to_folder + \"*.csv\") # formants only ?"
   ]
  },
  {
   "attachments": {},
   "cell_type": "markdown",
   "metadata": {},
   "source": [
    "On construit un `DataFrame` par mesure/formant : un pour F1, F2, F3, à partir de tous les fichiers `.csv` (générés avec `extract_phoneme.py` par exemple) obtenus précédemment."
   ]
  },
  {
   "cell_type": "code",
   "execution_count": null,
   "metadata": {},
   "outputs": [],
   "source": [
    "def formant_dataframe(formant_df, path_to_folder, formant):\n",
    "    # extract all data for a given formant (F1, F2, or F3) across all extracted features\n",
    "    # for a given folder of audio segments (5s)\n",
    "    for i in range(len(path_to_folder)):\n",
    "        df = pd.read_csv(path_to_folder[i])\n",
    "        formant_df[f'{formant[:2]}_{i}'] = df[formant]\n",
    "    return formant_df"
   ]
  },
  {
   "cell_type": "code",
   "execution_count": 3,
   "metadata": {},
   "outputs": [],
   "source": [
    "#### extract formants\n",
    "# centerformantfreqs = ['F1frequency_sma3nz', 'F2frequency_sma3nz', 'F3frequency_sma3nz']\n",
    "# formants = features[centerformantfreqs]"
   ]
  },
  {
   "cell_type": "code",
   "execution_count": 2,
   "metadata": {},
   "outputs": [],
   "source": [
    "# dataframe w all measures for F1\n",
    "f1_formant_df = pd.DataFrame()\n",
    "f1_formant_df['time'] = np.arange(0, 5, 0.1)\n",
    "f1_formant_df = formant_dataframe(f1_formant_df, path_to_folder, \"\")"
   ]
  },
  {
   "attachments": {},
   "cell_type": "markdown",
   "metadata": {},
   "source": [
    "On cherche ici à calculer la moyenne pour chaque mesure du formant à l'instant t. Le vecteur moyenne finalement obtenu nous permettra d'obtenir finalement une représentation graphique du premier formant en fonction du temps."
   ]
  },
  {
   "cell_type": "code",
   "execution_count": null,
   "metadata": {},
   "outputs": [],
   "source": [
    "# compute mean value for each value of time\n",
    "f1_formant_df['mean'] = f1_formant_df.mean(axis=1) # mean for each row\n",
    "# mean vector => plot! "
   ]
  },
  {
   "cell_type": "code",
   "execution_count": null,
   "metadata": {},
   "outputs": [],
   "source": [
    "# plot\n",
    "sns.lineplot(x='time', y='mean', data=f1_formant_df)\n",
    "# TODO : barre variance??? étendue etc pour chaque point sur le graphique"
   ]
  }
 ],
 "metadata": {
  "kernelspec": {
   "display_name": "Python 3",
   "language": "python",
   "name": "python3"
  },
  "language_info": {
   "codemirror_mode": {
    "name": "ipython",
    "version": 3
   },
   "file_extension": ".py",
   "mimetype": "text/x-python",
   "name": "python",
   "nbconvert_exporter": "python",
   "pygments_lexer": "ipython3",
   "version": "3.10.6"
  },
  "orig_nbformat": 4
 },
 "nbformat": 4,
 "nbformat_minor": 2
}
